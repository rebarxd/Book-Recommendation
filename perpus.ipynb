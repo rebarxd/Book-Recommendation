{
 "cells": [
  {
   "cell_type": "code",
   "execution_count": 20,
   "metadata": {},
   "outputs": [],
   "source": [
    "import pandas as pd"
   ]
  },
  {
   "cell_type": "code",
   "execution_count": 21,
   "metadata": {},
   "outputs": [
    {
     "name": "stdout",
     "output_type": "stream",
     "text": [
      "  IdPerpus               Perpustakaan  \\\n",
      "0      173  Perpustakaan Kota Bandung   \n",
      "1      213           Perpustakaan ITB   \n",
      "2      913           Perpustakaan UPI   \n",
      "\n",
      "                                              Alamat                 Lon  \\\n",
      "0  Jl. Seram No.2, Citarum, Kec. Bandung Wetan, K...   107.6137978229117   \n",
      "1  Kawasan ITB Kampus Ganesa, Jl. Ganesa No.10, L...   107.6107340527733   \n",
      "2   Jl. Dr. Setiabudi No.229, Isola, Kec. Sukasar...  107.59142271780094   \n",
      "\n",
      "                  Lan  \n",
      "0  -6.908202787856465  \n",
      "1  -6.888200572853506  \n",
      "2  -6.860911863002797  \n"
     ]
    }
   ],
   "source": [
    "\n",
    " \n",
    "# initialize data of lists.\n",
    "data = {'IdPerpus': ['173', '213', '913', ],\n",
    "        'Perpustakaan': ['Perpustakaan Kota Bandung', 'Perpustakaan ITB', 'Perpustakaan UPI'],\n",
    "        'Alamat':['Jl. Seram No.2, Citarum, Kec. Bandung Wetan, Kota Bandung, Jawa Barat 40115', 'Kawasan ITB Kampus Ganesa, Jl. Ganesa No.10, Lb. Siliwangi, Kecamatan Coblong, Kota Bandung, Jawa Barat 40132', ' Jl. Dr. Setiabudi No.229, Isola, Kec. Sukasari, Kota Bandung, Jawa Barat 40154'],\n",
    "        'Lon':['107.6137978229117','107.6107340527733','107.59142271780094'],\n",
    "        'Lat':['-6.908202787856465','-6.888200572853506','-6.860911863002797']\n",
    "        }\n",
    "# Create DataFrame\n",
    "df = pd.DataFrame(data)\n",
    " \n",
    "# Print the output.\n",
    "print(df)"
   ]
  },
  {
   "cell_type": "code",
   "execution_count": 22,
   "metadata": {},
   "outputs": [
    {
     "data": {
      "text/html": [
       "<div>\n",
       "<style scoped>\n",
       "    .dataframe tbody tr th:only-of-type {\n",
       "        vertical-align: middle;\n",
       "    }\n",
       "\n",
       "    .dataframe tbody tr th {\n",
       "        vertical-align: top;\n",
       "    }\n",
       "\n",
       "    .dataframe thead th {\n",
       "        text-align: right;\n",
       "    }\n",
       "</style>\n",
       "<table border=\"1\" class=\"dataframe\">\n",
       "  <thead>\n",
       "    <tr style=\"text-align: right;\">\n",
       "      <th></th>\n",
       "      <th>IdPerpus</th>\n",
       "      <th>Perpustakaan</th>\n",
       "      <th>Alamat</th>\n",
       "      <th>Lon</th>\n",
       "      <th>Lan</th>\n",
       "    </tr>\n",
       "  </thead>\n",
       "  <tbody>\n",
       "    <tr>\n",
       "      <th>0</th>\n",
       "      <td>173</td>\n",
       "      <td>Perpustakaan Kota Bandung</td>\n",
       "      <td>Jl. Seram No.2, Citarum, Kec. Bandung Wetan, K...</td>\n",
       "      <td>107.6137978229117</td>\n",
       "      <td>-6.908202787856465</td>\n",
       "    </tr>\n",
       "    <tr>\n",
       "      <th>1</th>\n",
       "      <td>213</td>\n",
       "      <td>Perpustakaan ITB</td>\n",
       "      <td>Kawasan ITB Kampus Ganesa, Jl. Ganesa No.10, L...</td>\n",
       "      <td>107.6107340527733</td>\n",
       "      <td>-6.888200572853506</td>\n",
       "    </tr>\n",
       "    <tr>\n",
       "      <th>2</th>\n",
       "      <td>913</td>\n",
       "      <td>Perpustakaan UPI</td>\n",
       "      <td>Jl. Dr. Setiabudi No.229, Isola, Kec. Sukasar...</td>\n",
       "      <td>107.59142271780094</td>\n",
       "      <td>-6.860911863002797</td>\n",
       "    </tr>\n",
       "  </tbody>\n",
       "</table>\n",
       "</div>"
      ],
      "text/plain": [
       "  IdPerpus               Perpustakaan  \\\n",
       "0      173  Perpustakaan Kota Bandung   \n",
       "1      213           Perpustakaan ITB   \n",
       "2      913           Perpustakaan UPI   \n",
       "\n",
       "                                              Alamat                 Lon  \\\n",
       "0  Jl. Seram No.2, Citarum, Kec. Bandung Wetan, K...   107.6137978229117   \n",
       "1  Kawasan ITB Kampus Ganesa, Jl. Ganesa No.10, L...   107.6107340527733   \n",
       "2   Jl. Dr. Setiabudi No.229, Isola, Kec. Sukasar...  107.59142271780094   \n",
       "\n",
       "                  Lan  \n",
       "0  -6.908202787856465  \n",
       "1  -6.888200572853506  \n",
       "2  -6.860911863002797  "
      ]
     },
     "metadata": {},
     "output_type": "display_data"
    }
   ],
   "source": [
    "display(df)"
   ]
  },
  {
   "cell_type": "code",
   "execution_count": 23,
   "metadata": {},
   "outputs": [],
   "source": [
    "df.to_csv('datasets/Perpustakaan.csv', index='False')"
   ]
  }
 ],
 "metadata": {
  "kernelspec": {
   "display_name": "Python 3",
   "language": "python",
   "name": "python3"
  },
  "language_info": {
   "codemirror_mode": {
    "name": "ipython",
    "version": 3
   },
   "file_extension": ".py",
   "mimetype": "text/x-python",
   "name": "python",
   "nbconvert_exporter": "python",
   "pygments_lexer": "ipython3",
   "version": "3.10.7"
  }
 },
 "nbformat": 4,
 "nbformat_minor": 2
}
