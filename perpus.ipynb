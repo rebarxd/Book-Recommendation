{
 "cells": [
  {
   "cell_type": "code",
   "execution_count": 1,
   "metadata": {},
   "outputs": [],
   "source": [
    "import pandas as pd"
   ]
  },
  {
   "cell_type": "code",
   "execution_count": 6,
   "metadata": {},
   "outputs": [
    {
     "name": "stdout",
     "output_type": "stream",
     "text": [
      "  IdPerpus          Nama-Perpustakaan  \\\n",
      "0      173  Perpustakaan Kota Bandung   \n",
      "1      213           Perpustakaan ITB   \n",
      "2      913           Perpustakaan UPI   \n",
      "\n",
      "                                              Alamat                 Lon  \\\n",
      "0  Jl. Seram No.2, Citarum, Kec. Bandung Wetan, K...  -6.908202787856465   \n",
      "1  Kawasan ITB Kampus Ganesa, Jl. Ganesa No.10, L...  -6.888200572853506   \n",
      "2   Jl. Dr. Setiabudi No.229, Isola, Kec. Sukasar...  -6.860897216491367   \n",
      "\n",
      "                  Lan  \n",
      "0   107.6137978229117  \n",
      "1   107.6107340527733  \n",
      "2  107.59142405889551  \n"
     ]
    }
   ],
   "source": [
    "\n",
    " \n",
    "# initialize data of lists.\n",
    "data = {'IdPerpus': ['173', '213', '913', ],\n",
    "        'Nama-Perpustakaan': ['Perpustakaan Kota Bandung', 'Perpustakaan ITB', 'Perpustakaan UPI'],\n",
    "        'Alamat':['Jl. Seram No.2, Citarum, Kec. Bandung Wetan, Kota Bandung, Jawa Barat 40115', 'Kawasan ITB Kampus Ganesa, Jl. Ganesa No.10, Lb. Siliwangi, Kecamatan Coblong, Kota Bandung, Jawa Barat 40132', ' Jl. Dr. Setiabudi No.229, Isola, Kec. Sukasari, Kota Bandung, Jawa Barat 40154'],\n",
    "        'Lon':['-6.908202787856465','-6.888200572853506','-6.860897216491367'],\n",
    "        'Lan':['107.6137978229117','107.6107340527733','107.59142405889551']\n",
    "        }\n",
    " \n",
    "# Create DataFrame\n",
    "df = pd.DataFrame(data)\n",
    " \n",
    "# Print the output.\n",
    "print(df)"
   ]
  },
  {
   "cell_type": "code",
   "execution_count": 5,
   "metadata": {},
   "outputs": [],
   "source": [
    "df.to_csv('datasets/Perpustakaan.csv', index='False')"
   ]
  }
 ],
 "metadata": {
  "kernelspec": {
   "display_name": "Python 3",
   "language": "python",
   "name": "python3"
  },
  "language_info": {
   "codemirror_mode": {
    "name": "ipython",
    "version": 3
   },
   "file_extension": ".py",
   "mimetype": "text/x-python",
   "name": "python",
   "nbconvert_exporter": "python",
   "pygments_lexer": "ipython3",
   "version": "3.10.7"
  }
 },
 "nbformat": 4,
 "nbformat_minor": 2
}
